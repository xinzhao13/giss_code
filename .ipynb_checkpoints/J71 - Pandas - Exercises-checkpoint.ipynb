{
 "cells": [
  {
   "cell_type": "markdown",
   "metadata": {},
   "source": [
    "# Workbook 7.1 - Pandas Exercises"
   ]
  },
  {
   "cell_type": "markdown",
   "metadata": {},
   "source": [
    "Use the following cell to import all the modules you need:"
   ]
  },
  {
   "cell_type": "code",
   "execution_count": null,
   "metadata": {
    "collapsed": true
   },
   "outputs": [],
   "source": []
  },
  {
   "cell_type": "markdown",
   "metadata": {},
   "source": [
    "**1.**\n",
    "\n",
    "a) Import the file 'tremor_data.csv'.\n",
    "\n",
    "b) Display the first few rows.\n",
    "\n",
    "c) Set the time column as the index and store as a new dataframe.\n",
    "\n",
    "d) Sort the data by the size of the earthquakes, largest to smallest.\n",
    "\n",
    "e) Display the first few rows of the new dataframe."
   ]
  },
  {
   "cell_type": "code",
   "execution_count": 1,
   "metadata": {
    "collapsed": true
   },
   "outputs": [],
   "source": [
    "# 1a\n"
   ]
  },
  {
   "cell_type": "code",
   "execution_count": 2,
   "metadata": {},
   "outputs": [],
   "source": [
    "# 1b\n"
   ]
  },
  {
   "cell_type": "code",
   "execution_count": 3,
   "metadata": {
    "collapsed": true
   },
   "outputs": [],
   "source": [
    "# 1c\n"
   ]
  },
  {
   "cell_type": "code",
   "execution_count": 4,
   "metadata": {
    "collapsed": true
   },
   "outputs": [],
   "source": [
    "# 1d\n"
   ]
  },
  {
   "cell_type": "code",
   "execution_count": 5,
   "metadata": {},
   "outputs": [],
   "source": [
    "# 1e\n"
   ]
  },
  {
   "cell_type": "markdown",
   "metadata": {},
   "source": [
    "**2.**\n",
    "\n",
    "Returning to the original dataframe, create new columns containing standardised versions of each of the variables and add these to the dataframe.\n",
    "\n",
    "Save this dataframe as 'new_tremor_data.csv'."
   ]
  },
  {
   "cell_type": "code",
   "execution_count": 91,
   "metadata": {
    "collapsed": true
   },
   "outputs": [],
   "source": []
  },
  {
   "cell_type": "markdown",
   "metadata": {},
   "source": [
    "**3.** Create a new dataframe containing only those tremors with a magnitude of over 2.5."
   ]
  },
  {
   "cell_type": "code",
   "execution_count": null,
   "metadata": {},
   "outputs": [],
   "source": []
  },
  {
   "cell_type": "markdown",
   "metadata": {},
   "source": [
    "**4.** Tremors of magnitude greater than 2.5 are usually felt by human beings, while smaller tremors are not. Add this information to the original dataframe (which should now includes some extra columns of standardised scores) in an appropriate way."
   ]
  },
  {
   "cell_type": "code",
   "execution_count": null,
   "metadata": {},
   "outputs": [],
   "source": []
  },
  {
   "cell_type": "markdown",
   "metadata": {},
   "source": [
    "**5.**\n",
    "\n",
    "**a)** Write a function that takes a list of column names and a list of row names and outputs a dataframe full of random numbers between 0 and 1, with the row names as the index.\n",
    "\n",
    "*[Hint: you may wish to import the numpy.random package, which allows you to create arrays of random numbers. Look up the documentation online.]*\n",
    "\n",
    "**b)** Improve your function by making it write an error message if the wrong kind of arguments are input."
   ]
  },
  {
   "cell_type": "code",
   "execution_count": null,
   "metadata": {
    "collapsed": true
   },
   "outputs": [],
   "source": []
  },
  {
   "cell_type": "code",
   "execution_count": 6,
   "metadata": {},
   "outputs": [],
   "source": [
    "# Test your function here:\n"
   ]
  },
  {
   "cell_type": "markdown",
   "metadata": {},
   "source": [
    "## Dataframes and Clustering\n",
    "\n",
    "The remainder of these exercises involve performing various cluster analysis on the tremors data, using all three dimensions: time, distance and magnitude."
   ]
  },
  {
   "cell_type": "markdown",
   "metadata": {},
   "source": [
    "### k-means clustering"
   ]
  },
  {
   "cell_type": "code",
   "execution_count": 114,
   "metadata": {},
   "outputs": [
    {
     "name": "stdout",
     "output_type": "stream",
     "text": [
      "[2 1 1 2 1 2 1 1 2 0 1 0 2 0]\n",
      "21.3666666667\n",
      "[[ 15.          14.33333333   0.33333333]\n",
      " [  2.           8.           7.83333333]\n",
      " [  3.6          3.2          2.4       ]]\n"
     ]
    }
   ],
   "source": [
    "# Import the following packages:\n",
    "\n",
    "import numpy as np\n",
    "import sklearn.cluster as sklc\n",
    "\n",
    "# Let's put some example data in.\n",
    "# Note that the points have to be ROWS:\n",
    "\n",
    "my_data = np.array([[3,4,1],\n",
    "                    [2,8,8],\n",
    "                    [2,7,8],\n",
    "                    [3,2,2],\n",
    "                    [1,9,7],\n",
    "                    [4,3,3],\n",
    "                    [3,9,8],\n",
    "                    [3,8,8],\n",
    "                    [3,3,3],\n",
    "                    [15,14,0],\n",
    "                    [1,7,8],\n",
    "                    [16,14,1],\n",
    "                    [5,4,3],\n",
    "                    [14,15,0]])\n",
    "\n",
    "# The next line performs the clustering.\n",
    "# Note that you can choose the number of clusters (n_clusters) and the number of repetitions of the algorithm (n_init).\n",
    "# The output (stored to kmeans_output here) is a special object which contains all the information about the clustering.\n",
    "kmeans_output = sklc.KMeans(n_clusters=3, n_init=1).fit(my_data)\n",
    "\n",
    "# These next lines give you:\n",
    "\n",
    "# A list giving the final cluster number of each point:\n",
    "clustering_ids_kmeans = kmeans_output.labels_\n",
    "\n",
    "# The SSE of the clustering:\n",
    "clustering_sse        = kmeans_output.inertia_\n",
    "\n",
    "# A list of the centroids, ordered by cluster number:\n",
    "clustering_centroids  = kmeans_output.cluster_centers_\n",
    "\n",
    "print(clustering_ids_kmeans)\n",
    "print(clustering_sse)\n",
    "print(clustering_centroids)"
   ]
  },
  {
   "cell_type": "markdown",
   "metadata": {},
   "source": [
    "### hierarchical agglomerative clustering"
   ]
  },
  {
   "cell_type": "code",
   "execution_count": 115,
   "metadata": {},
   "outputs": [
    {
     "name": "stdout",
     "output_type": "stream",
     "text": [
      "[3 2 2 3 2 3 2 2 3 1 2 1 3 1]\n"
     ]
    }
   ],
   "source": [
    "# Import the following packages:\n",
    "\n",
    "import numpy as np\n",
    "import scipy.cluster.hierarchy as spch\n",
    "\n",
    "# Let's put some example data in.\n",
    "# Note that the points have to be ROWS:\n",
    "\n",
    "my_data = np.array([[3,4,1],\n",
    "                    [2,8,8],\n",
    "                    [2,7,8],\n",
    "                    [3,2,2],\n",
    "                    [1,9,7],\n",
    "                    [4,3,3],\n",
    "                    [3,9,8],\n",
    "                    [3,8,8],\n",
    "                    [3,3,3],\n",
    "                    [15,14,0],\n",
    "                    [1,7,8],\n",
    "                    [16,14,1],\n",
    "                    [5,4,3],\n",
    "                    [14,15,0]])\n",
    "\n",
    "# Set the radius:\n",
    "r = 3\n",
    "\n",
    "# The next line performs the clustering.\n",
    "# \"criterion='distance'\" and \"method='single'\" just ensure that the method is as shown in the lecture. \n",
    "# The output is just the cluster_ids this time, since hierarchical clustering does not use centroids.\n",
    "\n",
    "clustering_ids_hierag = spch.fclusterdata(my_data, r, criterion='distance', method='single')\n",
    "\n",
    "print(clustering_ids_hierag)"
   ]
  },
  {
   "cell_type": "markdown",
   "metadata": {},
   "source": [
    "### Silhouette Scores"
   ]
  },
  {
   "cell_type": "code",
   "execution_count": 116,
   "metadata": {},
   "outputs": [
    {
     "name": "stdout",
     "output_type": "stream",
     "text": [
      "0.780209595029\n",
      "0.780209595029\n"
     ]
    }
   ],
   "source": [
    "# Import the following package:\n",
    "\n",
    "import sklearn.metrics as sklm\n",
    "\n",
    "# The next lines calculate the silhouette score for each clustering.\n",
    "# All that is required is the data and the the corresponding cluster ids:\n",
    "\n",
    "silhouette_kmeans = sklm.silhouette_score(my_data,clustering_ids_kmeans)\n",
    "silhouette_hierag = sklm.silhouette_score(my_data,clustering_ids_hierag)\n",
    "\n",
    "print(silhouette_kmeans)\n",
    "print(silhouette_hierag)"
   ]
  },
  {
   "cell_type": "markdown",
   "metadata": {},
   "source": [
    "### Dendrogram"
   ]
  },
  {
   "cell_type": "code",
   "execution_count": 119,
   "metadata": {},
   "outputs": [
    {
     "data": {
      "image/png": "[encoded data removed]",
      "text/plain": [
       "<matplotlib.figure.Figure at 0x11ebf90f0>"
      ]
     },
     "metadata": {},
     "output_type": "display_data"
    }
   ],
   "source": [
    "# Import the following packages:\n",
    "\n",
    "import matplotlib.pyplot as plt\n",
    "import sklearn.metrics as sklm\n",
    "import scipy.cluster.hierarchy as spch\n",
    "\n",
    "# The following lines create and display a dendrogram, saving it as a png:\n",
    "Z = spch.linkage(my_data, method='single', metric='euclidean')\n",
    "spch.dendrogram(Z,orientation='right')\n",
    "plt.show()\n",
    "plt.savefig('my_dendrogram.png')"
   ]
  },
  {
   "cell_type": "markdown",
   "metadata": {},
   "source": [
    "**6.** Perform a k-means clustering on the full (three-dimensional), standardised tremors data.\n",
    "\n",
    "The clustering should be repeated 20 times to ensure a good solution is found *(this can be done in the kmeans function - see above)*.\n",
    "\n",
    "Add the cluster ids of each point to the tremors dataframe."
   ]
  },
  {
   "cell_type": "code",
   "execution_count": null,
   "metadata": {
    "collapsed": true
   },
   "outputs": [],
   "source": []
  },
  {
   "cell_type": "markdown",
   "metadata": {},
   "source": [
    "**7.** Perform a k-means clustering on the tremors data for k (number of clusters) ranging from 1 to 20.\n",
    "\n",
    "Calculate the silhouette score for each clustering and store these values.\n",
    "\n",
    "Print the optimal number of clusters based on the silhouette scores and store the cluster ids in this case.\n",
    "\n",
    "Create a dataframe containing the results of this investigation. The index should be the number of clusters and the columns should contain the SSE and the silhouette score in each case."
   ]
  },
  {
   "cell_type": "code",
   "execution_count": null,
   "metadata": {
    "collapsed": true
   },
   "outputs": [],
   "source": []
  },
  {
   "cell_type": "markdown",
   "metadata": {},
   "source": [
    "**8.** Perform a hierarchical agglomerative clustering on the tremors data for r (radius) ranging over an appropriate range.\n",
    "\n",
    "Calculate the silhouette score for each clustering and store these values.\n",
    "\n",
    "Print the optimal value of r based on the silhouette scores and store the cluster ids in this case.\n",
    "\n",
    "Display a dendrogram for the clustering."
   ]
  },
  {
   "cell_type": "code",
   "execution_count": null,
   "metadata": {
    "collapsed": true
   },
   "outputs": [],
   "source": []
  },
  {
   "cell_type": "markdown",
   "metadata": {},
   "source": [
    "**9.** Using the optimal clustering from either question 8 or 9, print summary statistics for each of the clusters (i.e. the mean, standard deviation, min and max of each variable).\n",
    "\n",
    "*[Hint: You could add the cluster ids to the dataframe, then use Boolean indexing to create a separate dataframe for each cluster.]*"
   ]
  },
  {
   "cell_type": "code",
   "execution_count": null,
   "metadata": {
    "collapsed": true
   },
   "outputs": [],
   "source": []
  },
  {
   "cell_type": "markdown",
   "metadata": {},
   "source": [
    "**10.** In your opinion, does hierarchical or k-means clustering provide a better model of this data?"
   ]
  },
  {
   "cell_type": "code",
   "execution_count": null,
   "metadata": {
    "collapsed": true
   },
   "outputs": [],
   "source": []
  }
 ],
 "metadata": {
  "kernelspec": {
   "display_name": "Python 3",
   "language": "python",
   "name": "python3"
  },
  "language_info": {
   "codemirror_mode": {
    "name": "ipython",
    "version": 3
   },
   "file_extension": ".py",
   "mimetype": "text/x-python",
   "name": "python",
   "nbconvert_exporter": "python",
   "pygments_lexer": "ipython3",
   "version": "3.6.1"
  }
 },
 "nbformat": 4,
 "nbformat_minor": 1
}
